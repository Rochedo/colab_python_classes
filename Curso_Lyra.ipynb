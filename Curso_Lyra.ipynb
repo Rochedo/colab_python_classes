{
  "nbformat": 4,
  "nbformat_minor": 0,
  "metadata": {
    "colab": {
      "provenance": [],
      "toc_visible": true,
      "authorship_tag": "ABX9TyP++YD/JxRGQs4k0Woc70Bs",
      "include_colab_link": true
    },
    "kernelspec": {
      "name": "python3",
      "display_name": "Python 3"
    },
    "language_info": {
      "name": "python"
    }
  },
  "cells": [
    {
      "cell_type": "markdown",
      "metadata": {
        "id": "view-in-github",
        "colab_type": "text"
      },
      "source": [
        "<a href=\"https://colab.research.google.com/github/Rochedo/colab_python_classes/blob/main/Curso_Lyra.ipynb\" target=\"_parent\"><img src=\"https://colab.research.google.com/assets/colab-badge.svg\" alt=\"Open In Colab\"/></a>"
      ]
    },
    {
      "cell_type": "code",
      "execution_count": null,
      "metadata": {
        "id": "dG8PneeFJu88"
      },
      "outputs": [],
      "source": [
        "# Definir uma função para gerar a sequência de Fibonacci\n",
        "def fibonacci(n):\n",
        "  # Inicializar as duas primeiras variáveis da sequência\n",
        "  a = 0\n",
        "  b = 1\n",
        "  # Criar uma lista vazia para armazenar os termos da sequência\n",
        "  lista = []\n",
        "  # Usar um laço for para iterar n vezes\n",
        "  for i in range(n):\n",
        "    # Adicionar o valor de a à lista\n",
        "    lista.append(a)\n",
        "    # Atualizar os valores de a e b usando a regra de Fibonacci\n",
        "    a, b = b, a + b\n",
        "  # Retornar a lista com os termos da sequência\n",
        "  return lista\n",
        "\n",
        "# Testar a função com um exemplo\n",
        "display(fibonacci(10))\n",
        "\n"
      ]
    },
    {
      "cell_type": "markdown",
      "source": [
        "# Nova seção"
      ],
      "metadata": {
        "id": "7WN2s9sotpR_"
      }
    }
  ]
}